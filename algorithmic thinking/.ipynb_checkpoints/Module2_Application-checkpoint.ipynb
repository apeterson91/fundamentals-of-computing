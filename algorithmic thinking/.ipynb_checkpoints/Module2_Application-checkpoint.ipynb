{
 "cells": [
  {
   "cell_type": "markdown",
   "metadata": {},
   "source": [
    "#Module 2: Algorithmic Thinking"
   ]
  },
  {
   "cell_type": "code",
   "execution_count": 1,
   "metadata": {
    "collapsed": false
   },
   "outputs": [],
   "source": [
    "from __future__ import division\n",
    "import urllib2\n",
    "import random\n",
    "import time\n",
    "import math\n",
    "import matplotlib.pyplot as plt\n",
    "from matplotlib.patches import Rectangle\n",
    "from collections import Counter,OrderedDict\n",
    "import numpy as np\n",
    "import mod_2_hmwk\n",
    "random.seed(1)"
   ]
  },
  {
   "cell_type": "code",
   "execution_count": 2,
   "metadata": {
    "collapsed": true
   },
   "outputs": [],
   "source": [
    "%matplotlib inline"
   ]
  },
  {
   "cell_type": "code",
   "execution_count": 3,
   "metadata": {
    "collapsed": true
   },
   "outputs": [],
   "source": [
    "def copy_graph(graph):\n",
    "    \"\"\"\n",
    "    Make a copy of a graph\n",
    "    \"\"\"\n",
    "    new_graph = {}\n",
    "    for node in graph:\n",
    "        new_graph[node] = set(graph[node])\n",
    "    return new_graph\n",
    "\n",
    "def delete_node(ugraph, node):\n",
    "    \"\"\"\n",
    "    Delete a node from an undirected graph\n",
    "    \"\"\"\n",
    "    neighbors = ugraph[node]\n",
    "    ugraph.pop(node)\n",
    "    for neighbor in neighbors:\n",
    "        ugraph[neighbor].remove(node)\n",
    "    \n",
    "def targeted_order(ugraph):\n",
    "    \"\"\"\n",
    "    Compute a targeted attack order consisting\n",
    "    of nodes of maximal degree\n",
    "    \n",
    "    Returns:\n",
    "    A list of nodes\n",
    "    \"\"\"\n",
    "    # copy the graph\n",
    "    new_graph = copy_graph(ugraph)\n",
    "    \n",
    "    order = []    \n",
    "    while len(new_graph) > 0:\n",
    "        max_degree = -1\n",
    "        for node in new_graph.keys():\n",
    "            if len(new_graph[node]) > max_degree:\n",
    "                max_degree = len(new_graph[node])\n",
    "                max_degree_node = node\n",
    "        \n",
    "        neighbors = new_graph[max_degree_node]\n",
    "        new_graph.pop(max_degree_node)\n",
    "        for neighbor in neighbors:\n",
    "            new_graph[neighbor].remove(max_degree_node)\n",
    "\n",
    "        order.append(max_degree_node)\n",
    "    return order\n",
    "    \n",
    "\n",
    "\n",
    "##########################################################\n",
    "# Code for loading computer network graph\n",
    "\n",
    "NETWORK_URL = \"http://storage.googleapis.com/codeskulptor-alg/alg_rf7.txt\"\n",
    "\n",
    "\n",
    "def load_graph(graph_url):\n",
    "    \"\"\"\n",
    "    Function that loads a graph given the URL\n",
    "    for a text representation of the graph\n",
    "    \n",
    "    Returns a dictionary that models a graph\n",
    "    \"\"\"\n",
    "    graph_file = urllib2.urlopen(graph_url)\n",
    "    graph_text = graph_file.read()\n",
    "    graph_lines = graph_text.split('\\n')\n",
    "    graph_lines = graph_lines[ : -1]\n",
    "    \n",
    "    print \"Loaded graph with\", len(graph_lines), \"nodes\"\n",
    "    \n",
    "    answer_graph = {}\n",
    "    for line in graph_lines:\n",
    "        neighbors = line.split(' ')\n",
    "        node = int(neighbors[0])\n",
    "        answer_graph[node] = set([])\n",
    "        for neighbor in neighbors[1 : -1]:\n",
    "            answer_graph[node].add(int(neighbor))\n",
    "\n",
    "    return answer_graph"
   ]
  },
  {
   "cell_type": "code",
   "execution_count": 63,
   "metadata": {
    "collapsed": true
   },
   "outputs": [],
   "source": [
    "def ER_graph(num_nodes):\n",
    "    p = .0011\n",
    "    i_j_pairs = [(i,j) for i in range(1,num_nodes+1) for j in range(1,num_nodes+1) if i!=j]\n",
    "    ER_graph = {}\n",
    "    for pair in i_j_pairs:\n",
    "        if random.random()<p:\n",
    "            if pair[0] not in ER_graph.keys():\n",
    "                ER_graph[pair[0]] = set([])\n",
    "                ER_graph[pair[0]].add(pair[1])\n",
    "            else:\n",
    "                ER_graph[pair[0]].add(pair[1])\n",
    "            if pair[1] not in ER_graph.keys():\n",
    "                ER_graph[pair[1]] = set([])\n",
    "                ER_graph[pair[1]].add(pair[0])\n",
    "            else:\n",
    "                ER_graph[pair[1]].add(pair[0])\n",
    "    return ER_graph"
   ]
  },
  {
   "cell_type": "code",
   "execution_count": 5,
   "metadata": {
    "collapsed": false
   },
   "outputs": [],
   "source": [
    "class UPATrial:\n",
    "    \"\"\"\n",
    "    Simple class to encapsulate optimizated trials for the UPA algorithm\n",
    "    \n",
    "    Maintains a list of node numbers with multiple instance of each number.\n",
    "    The number of instances of each node number are\n",
    "    in the same proportion as the desired probabilities\n",
    "    \n",
    "    Uses random.choice() to select a node number from this list for each trial.\n",
    "    \"\"\"\n",
    "\n",
    "    def __init__(self, num_nodes):\n",
    "        \"\"\"\n",
    "        Initialize a UPATrial object corresponding to a \n",
    "        complete graph with num_nodes nodes\n",
    "        \n",
    "        Note the initial list of node numbers has num_nodes copies of\n",
    "        each node number\n",
    "        \"\"\"\n",
    "        self._num_nodes = num_nodes\n",
    "        self._m = num_nodes\n",
    "        self._node_numbers = [node for node in range(num_nodes) for dummy_idx in range(num_nodes)]\n",
    "        self._graph = {node:{_ for _ in range(num_nodes) if _!=node} for node in range(num_nodes)}\n",
    "\n",
    "\n",
    "    def run_trial(self, num_nodes):\n",
    "        \"\"\"\n",
    "        Conduct num_nodes trials using by applying random.choice()\n",
    "        to the list of node numbers\n",
    "        \n",
    "        Updates the list of node numbers so that each node number\n",
    "        appears in correct ratio\n",
    "        \n",
    "        Returns:\n",
    "        Set of nodes\n",
    "        \"\"\"\n",
    "        \n",
    "        # compute the neighbors for the newly-created node\n",
    "        new_node_neighbors = set()\n",
    "        for _ in range(num_nodes):\n",
    "            new_node_neighbors.add(random.choice(self._node_numbers))\n",
    "        \n",
    "        # update the list of node numbers so that each node number \n",
    "        # appears in the correct ratio\n",
    "        self._node_numbers.append(self._num_nodes)\n",
    "        for dummy_idx in range(len(new_node_neighbors)):\n",
    "            self._node_numbers.append(self._num_nodes)\n",
    "        self._node_numbers.extend(list(new_node_neighbors))\n",
    "\n",
    "        #update the number of nodes\n",
    "        self._num_nodes += 1\n",
    "        return new_node_neighbors\n",
    "    \n",
    "    def complete_setup(self,n):\n",
    "        for index in range(self._num_nodes,n):\n",
    "            self.run_trial(index)\n",
    "            self._graph[index]= set([])\n",
    "            new_neighbors = set(np.random.choice(self._node_numbers,self._m,replace=True))\n",
    "            new_neighbors = {neighbor for neighbor in new_neighbors if neighbor != index}\n",
    "            self._graph[index]= new_neighbors\n",
    "            for neighbor in new_neighbors:\n",
    "                self._graph[neighbor].add(index)"
   ]
  },
  {
   "cell_type": "markdown",
   "metadata": {},
   "source": [
    "Here is an alternative solution if you are adding N numbers, each between 0.0 and 1.0, and expect the operations X1 + X2 + … and 1.0 - X1 … to behave like they do in math.\n",
    "\n",
    "Each time you obtain a new number Xi, do: Xi ← 1.0 - (1.0 - Xi). Only use this new value of Xi from that point onwards. This assignment will slightly round Xi so that it behaves well in all sums whose intermediate results are between 0.0 and 1.0.\n",
    "\n",
    "EDIT: after doing the above for values X1, …, XN-1, compute XN as 1 - X1 - … - XN-1. This floating-point computation will be exact (despite involving floating-point), so that you will have X1 + … + XN = 1 exactly."
   ]
  },
  {
   "cell_type": "code",
   "execution_count": 6,
   "metadata": {
    "collapsed": true
   },
   "outputs": [],
   "source": [
    "def random_order(graph):\n",
    "    \"\"\"\n",
    "    returns a list of the nodes in random order from graph\n",
    "    \"\"\"\n",
    "    nodes = graph.keys()\n",
    "    random.shuffle(nodes)\n",
    "    return nodes"
   ]
  },
  {
   "cell_type": "code",
   "execution_count": 7,
   "metadata": {
    "collapsed": false
   },
   "outputs": [
    {
     "name": "stdout",
     "output_type": "stream",
     "text": [
      "Loaded graph with 1239 nodes\n"
     ]
    }
   ],
   "source": [
    "graph = load_graph(NETWORK_URL)"
   ]
  },
  {
   "cell_type": "code",
   "execution_count": 31,
   "metadata": {
    "collapsed": false
   },
   "outputs": [],
   "source": [
    "# result1 = mod_2_hmwk.compute_resilience(graph,random_order(graph))"
   ]
  },
  {
   "cell_type": "code",
   "execution_count": 38,
   "metadata": {
    "collapsed": false
   },
   "outputs": [],
   "source": [
    "# import csv\n",
    "# resultfile = open(\"resultfile.csv\",\"w\")\n",
    "# wr = csv.writer(resultfile, dialect='excel')\n",
    "# wr.writerow(result1)\n",
    "# resultfile.close()"
   ]
  },
  {
   "cell_type": "code",
   "execution_count": 6,
   "metadata": {
    "collapsed": false
   },
   "outputs": [],
   "source": [
    "import csv\n",
    "with open(\"resultfile.csv\",\"r\") as csvfile:\n",
    "    resultoriginal = csv.reader(csvfile)\n",
    "    for row in resultoriginal:\n",
    "        result1 = row"
   ]
  },
  {
   "cell_type": "code",
   "execution_count": 7,
   "metadata": {
    "collapsed": false
   },
   "outputs": [],
   "source": [
    "with open(\"resultfile2.csv\",\"r\") as csvfile:\n",
    "    resultoriginal = csv.reader(csvfile)\n",
    "    for row in resultoriginal:\n",
    "        result2 = row"
   ]
  },
  {
   "cell_type": "code",
   "execution_count": 8,
   "metadata": {
    "collapsed": true
   },
   "outputs": [],
   "source": [
    "with open(\"resultfile3.csv\",\"r\") as csvfile:\n",
    "    resultoriginal = csv.reader(csvfile)\n",
    "    for row in resultoriginal:\n",
    "        result3 = row"
   ]
  },
  {
   "cell_type": "code",
   "execution_count": 9,
   "metadata": {
    "collapsed": false
   },
   "outputs": [],
   "source": [
    "result1 = map(int,result1)\n",
    "result2 = map(int,result2)\n",
    "result3 = map(int,result3)"
   ]
  },
  {
   "cell_type": "code",
   "execution_count": 8,
   "metadata": {
    "collapsed": true
   },
   "outputs": [],
   "source": [
    "num_nodes = 1239"
   ]
  },
  {
   "cell_type": "code",
   "execution_count": 64,
   "metadata": {
    "collapsed": false
   },
   "outputs": [],
   "source": [
    "ER_G = ER_graph(num_nodes)"
   ]
  },
  {
   "cell_type": "code",
   "execution_count": 25,
   "metadata": {
    "collapsed": false
   },
   "outputs": [
    {
     "data": {
      "text/plain": [
       "3036"
      ]
     },
     "execution_count": 25,
     "metadata": {},
     "output_type": "execute_result"
    }
   ],
   "source": [
    "# sum(map(len,ER_G.values()))"
   ]
  },
  {
   "cell_type": "code",
   "execution_count": 26,
   "metadata": {
    "collapsed": false
   },
   "outputs": [],
   "source": [
    "# result2 = mod_2_hmwk.compute_resilience(ER_G,random_order(ER_G))"
   ]
  },
  {
   "cell_type": "code",
   "execution_count": 33,
   "metadata": {
    "collapsed": false
   },
   "outputs": [],
   "source": [
    "# result2file = open(\"resultfile2.csv\",\"w\")\n",
    "# wr = csv.writer(result2file, dialect='excel')\n",
    "# wr.writerow(result2)\n",
    "# result2file.close()"
   ]
  },
  {
   "cell_type": "code",
   "execution_count": 10,
   "metadata": {
    "collapsed": false
   },
   "outputs": [],
   "source": [
    "UPA_G = UPATrial(1)"
   ]
  },
  {
   "cell_type": "code",
   "execution_count": 11,
   "metadata": {
    "collapsed": false
   },
   "outputs": [],
   "source": [
    "UPA_G.complete_setup(1200)"
   ]
  },
  {
   "cell_type": "code",
   "execution_count": 473,
   "metadata": {
    "collapsed": false
   },
   "outputs": [],
   "source": [
    "# result3 = mod_2_hmwk.compute_resilience(UPA_G._graph,random_order(UPA_G._graph))"
   ]
  },
  {
   "cell_type": "code",
   "execution_count": 474,
   "metadata": {
    "collapsed": true
   },
   "outputs": [],
   "source": [
    "# import csv\n",
    "# resultfile = open(\"resultfile3.csv\",\"w\")\n",
    "# wr = csv.writer(resultfile, dialect='excel')\n",
    "# wr.writerow(result3)\n",
    "# resultfile.close()"
   ]
  },
  {
   "cell_type": "code",
   "execution_count": 23,
   "metadata": {
    "collapsed": false
   },
   "outputs": [
    {
     "data": {
      "image/png": "[encoded data removed]",
      "text/plain": [
       "<matplotlib.figure.Figure at 0x110676cd0>"
      ]
     },
     "metadata": {},
     "output_type": "display_data"
    }
   ],
   "source": [
    "plt.plot(np.linspace(0,num_nodes,num=len(result1)), result1,'r-',label=\"Computer Ntwrk Graph\")\n",
    "plt.plot(np.linspace(0,num_nodes, num=len(result2)), result2, 'b-', label=\"ER Graph\")\n",
    "plt.plot(np.linspace(0,num_nodes,num=len(result3)), result3, 'g-', label=\"UPA Graph\")\n",
    "plt.text(650,900,\"p = 0.0011; m =1\")\n",
    "plt.title(\"Number of Connected Components vs Nodes Lost in Graph\")\n",
    "plt.xlabel(\"Number of Nodes lost\")\n",
    "plt.ylabel(\"Number of Connected Components in Graph\")\n",
    "plt.legend()\n",
    "plt.savefig(\"ComparisonPlot_plt1.png\")\n",
    "plt.show()"
   ]
  },
  {
   "cell_type": "markdown",
   "metadata": {},
   "source": [
    "## Q3"
   ]
  },
  {
   "cell_type": "code",
   "execution_count": 49,
   "metadata": {
    "collapsed": false
   },
   "outputs": [],
   "source": [
    "def fasttargetedorder(ugraph):\n",
    "    ugraph = copy_graph(ugraph)\n",
    "    degreesets = [ set([]) for _ in range(len(ugraph.keys()))]\n",
    "    for key in ugraph.keys():\n",
    "        d = len(ugraph[key])\n",
    "        degreesets[d].add(key) \n",
    "    L = []\n",
    "    for k in range(len(degreesets)-1,-1,-1):\n",
    "        while degreesets[k]:\n",
    "            popped_node = degreesets[k].pop()\n",
    "            for neighbor in ugraph[popped_node]:\n",
    "                d = len(ugraph[neighbor])\n",
    "                degreesets[d].remove(neighbor)\n",
    "                degreesets[d-1].add(neighbor)\n",
    "            L.append(popped_node)\n",
    "            delete_node(ugraph,popped_node)\n",
    "    return L"
   ]
  },
  {
   "cell_type": "code",
   "execution_count": 50,
   "metadata": {
    "collapsed": false
   },
   "outputs": [],
   "source": [
    "import gc\n",
    "fasttargettimes = []\n",
    "regtargettimes = []\n",
    "gc.disable()\n",
    "for n in range(10,1000,10):\n",
    "    UPAgraph = UPATrial(5)\n",
    "    UPAgraph.complete_setup(n)\n",
    "    starttime = time.time()\n",
    "    fasttargetedorder(UPAgraph._graph)\n",
    "    endtime = time.time()\n",
    "    fasttargettimes.append(endtime-starttime)\n",
    "    starttime = time.time()\n",
    "    targeted_order(UPAgraph._graph)\n",
    "    endtime = time.time()\n",
    "    regtargettimes.append(endtime-starttime)\n",
    "gc.enable()"
   ]
  },
  {
   "cell_type": "code",
   "execution_count": 74,
   "metadata": {
    "collapsed": false
   },
   "outputs": [
    {
     "data": {
      "image/png": "[encoded data removed]",
      "text/plain": [
       "<matplotlib.figure.Figure at 0x10898d290>"
      ]
     },
     "metadata": {},
     "output_type": "display_data"
    }
   ],
   "source": [
    "plt.plot(np.linspace(0,1000,num=len(fasttargettimes)),fasttargettimes, 'r-', label=\"fast target order\")\n",
    "plt.plot(np.linspace(0,1000,num=len(fasttargettimes)),regtargettimes, 'b-', label=\"target order\")\n",
    "plt.title(\"'Fast Target Order Algo' vs. 'Regular Target Order Algo'(Desktop)\")\n",
    "plt.xlabel(\"number of nodes (n) \")\n",
    "plt.ylabel(\"running time (sec)\")\n",
    "plt.legend()\n",
    "plt.savefig(\"RunTimeComparison.png\")\n",
    "plt.show()"
   ]
  },
  {
   "cell_type": "markdown",
   "metadata": {},
   "source": [
    "## Q4"
   ]
  },
  {
   "cell_type": "code",
   "execution_count": 16,
   "metadata": {
    "collapsed": false
   },
   "outputs": [],
   "source": [
    "fastorderlist = fasttargetedorder(graph)"
   ]
  },
  {
   "cell_type": "code",
   "execution_count": 17,
   "metadata": {
    "collapsed": true
   },
   "outputs": [],
   "source": [
    "sloworderlist = targeted_order(graph)"
   ]
  },
  {
   "cell_type": "code",
   "execution_count": 26,
   "metadata": {
    "collapsed": false
   },
   "outputs": [
    {
     "data": {
      "text/plain": [
       "{8, 49, 453, 464, 596, 756, 846, 989, 1164, 1217}"
      ]
     },
     "execution_count": 26,
     "metadata": {},
     "output_type": "execute_result"
    }
   ],
   "source": [
    "# fastorderlist[:5], sloworderlist[:5]"
   ]
  },
  {
   "cell_type": "code",
   "execution_count": 20,
   "metadata": {
    "collapsed": false
   },
   "outputs": [],
   "source": [
    "targetresult1 = mod_2_hmwk.compute_resilience(graph,sloworderlist)"
   ]
  },
  {
   "cell_type": "code",
   "execution_count": 65,
   "metadata": {
    "collapsed": true
   },
   "outputs": [],
   "source": [
    "targetlist_ER = fasttargetedorder(ER_G)"
   ]
  },
  {
   "cell_type": "code",
   "execution_count": 67,
   "metadata": {
    "collapsed": false
   },
   "outputs": [],
   "source": [
    "targetresult2 = mod_2_hmwk.compute_resilience(ER_G,targetlist_ER)"
   ]
  },
  {
   "cell_type": "code",
   "execution_count": 69,
   "metadata": {
    "collapsed": false
   },
   "outputs": [],
   "source": [
    "import csv\n",
    "resultfile = open(\"ERtargetresilience.csv\",\"w\")\n",
    "wr = csv.writer(resultfile, dialect='excel')\n",
    "wr.writerow(targetresult2)\n",
    "resultfile.close()"
   ]
  },
  {
   "cell_type": "code",
   "execution_count": 57,
   "metadata": {
    "collapsed": false
   },
   "outputs": [],
   "source": [
    "targetlist_UPA = fasttargetedorder(UPA_G._graph)"
   ]
  },
  {
   "cell_type": "code",
   "execution_count": 59,
   "metadata": {
    "collapsed": true
   },
   "outputs": [],
   "source": [
    "targetresult3 = mod_2_hmwk.compute_resilience(UPA_G._graph,targetlist_UPA)"
   ]
  },
  {
   "cell_type": "code",
   "execution_count": 76,
   "metadata": {
    "collapsed": false
   },
   "outputs": [],
   "source": [
    "resultfile = open(\"UPAtargetresilience.csv\",\"w\")\n",
    "wr = csv.writer(resultfile, dialect='excel')\n",
    "wr.writerow(targetresult3)\n",
    "resultfile.close()"
   ]
  },
  {
   "cell_type": "code",
   "execution_count": 77,
   "metadata": {
    "collapsed": true
   },
   "outputs": [],
   "source": [
    "resultfile = open(\"originalgraphtargetresilience.csv\", \"w\")\n",
    "wr = csv.writer(resultfile, dialect='excel')\n",
    "wr.writerow(targetresult1)\n",
    "resultfile.close()"
   ]
  },
  {
   "cell_type": "code",
   "execution_count": 73,
   "metadata": {
    "collapsed": false
   },
   "outputs": [
    {
     "data": {
      "image/png": "[encoded data removed]",
      "text/plain": [
       "<matplotlib.figure.Figure at 0x10b517d90>"
      ]
     },
     "metadata": {},
     "output_type": "display_data"
    }
   ],
   "source": [
    "plt.plot(np.linspace(0,num_nodes,num=len(targetresult1)), targetresult1,'r-',label=\"Computer Network Graph\")\n",
    "plt.plot(np.linspace(0,num_nodes, num=len(targetresult2)), targetresult2, 'b-', label=\"ER Graph\")\n",
    "plt.plot(np.linspace(0,num_nodes,num=len(targetresult3)), targetresult3, 'g-', label=\"UPA Graph\")\n",
    "plt.title(\"Number of Connected Components vs Nodes Lost in Graph\")\n",
    "plt.text(650,900,\"p = 0.0011; m =1\")\n",
    "plt.xlabel(\"Number of Nodes lost\")\n",
    "plt.ylabel(\"Number of Connected Components in Graph\")\n",
    "plt.legend()\n",
    "plt.savefig(\"ComparisonPlot_plt2.png\")\n",
    "plt.show()"
   ]
  }
 ],
 "metadata": {
  "kernelspec": {
   "display_name": "Python 2",
   "language": "python",
   "name": "python2"
  },
  "language_info": {
   "codemirror_mode": {
    "name": "ipython",
    "version": 2
   },
   "file_extension": ".py",
   "mimetype": "text/x-python",
   "name": "python",
   "nbconvert_exporter": "python",
   "pygments_lexer": "ipython2",
   "version": "2.7.9"
  }
 },
 "nbformat": 4,
 "nbformat_minor": 0
}
