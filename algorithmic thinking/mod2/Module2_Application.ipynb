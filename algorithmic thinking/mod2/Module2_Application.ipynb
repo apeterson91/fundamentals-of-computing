{
 "cells": [
  {
   "cell_type": "markdown",
   "metadata": {},
   "source": [
    "#Module 2: Algorithmic Thinking"
   ]
  },
  {
   "cell_type": "code",
   "execution_count": 115,
   "metadata": {
    "collapsed": true
   },
   "outputs": [],
   "source": [
    "from __future__ import division\n",
    "import urllib2\n",
    "import random\n",
    "import time\n",
    "import math\n",
    "import matplotlib.pyplot as plt\n",
    "from collections import Counter\n",
    "import mod_2_hmwk\n",
    "random.seed(1)"
   ]
  },
  {
   "cell_type": "code",
   "execution_count": 7,
   "metadata": {
    "collapsed": true
   },
   "outputs": [],
   "source": [
    "def copy_graph(graph):\n",
    "    \"\"\"\n",
    "    Make a copy of a graph\n",
    "    \"\"\"\n",
    "    new_graph = {}\n",
    "    for node in graph:\n",
    "        new_graph[node] = set(graph[node])\n",
    "    return new_graph\n",
    "\n",
    "def delete_node(ugraph, node):\n",
    "    \"\"\"\n",
    "    Delete a node from an undirected graph\n",
    "    \"\"\"\n",
    "    neighbors = ugraph[node]\n",
    "    ugraph.pop(node)\n",
    "    for neighbor in neighbors:\n",
    "        ugraph[neighbor].remove(node)\n",
    "    \n",
    "def targeted_order(ugraph):\n",
    "    \"\"\"\n",
    "    Compute a targeted attack order consisting\n",
    "    of nodes of maximal degree\n",
    "    \n",
    "    Returns:\n",
    "    A list of nodes\n",
    "    \"\"\"\n",
    "    # copy the graph\n",
    "    new_graph = copy_graph(ugraph)\n",
    "    \n",
    "    order = []    \n",
    "    while len(new_graph) > 0:\n",
    "        max_degree = -1\n",
    "        for node in new_graph:\n",
    "            if len(new_graph[node]) > max_degree:\n",
    "                max_degree = len(new_graph[node])\n",
    "                max_degree_node = node\n",
    "        \n",
    "        neighbors = new_graph[max_degree_node]\n",
    "        new_graph.pop(max_degree_node)\n",
    "        for neighbor in neighbors:\n",
    "            new_graph[neighbor].remove(max_degree_node)\n",
    "\n",
    "        order.append(max_degree_node)\n",
    "    return order\n",
    "    \n",
    "\n",
    "\n",
    "##########################################################\n",
    "# Code for loading computer network graph\n",
    "\n",
    "NETWORK_URL = \"http://storage.googleapis.com/codeskulptor-alg/alg_rf7.txt\"\n",
    "\n",
    "\n",
    "def load_graph(graph_url):\n",
    "    \"\"\"\n",
    "    Function that loads a graph given the URL\n",
    "    for a text representation of the graph\n",
    "    \n",
    "    Returns a dictionary that models a graph\n",
    "    \"\"\"\n",
    "    graph_file = urllib2.urlopen(graph_url)\n",
    "    graph_text = graph_file.read()\n",
    "    graph_lines = graph_text.split('\\n')\n",
    "    graph_lines = graph_lines[ : -1]\n",
    "    \n",
    "    print \"Loaded graph with\", len(graph_lines), \"nodes\"\n",
    "    \n",
    "    answer_graph = {}\n",
    "    for line in graph_lines:\n",
    "        neighbors = line.split(' ')\n",
    "        node = int(neighbors[0])\n",
    "        answer_graph[node] = set([])\n",
    "        for neighbor in neighbors[1 : -1]:\n",
    "            answer_graph[node].add(int(neighbor))\n",
    "\n",
    "    return answer_graph"
   ]
  },
  {
   "cell_type": "code",
   "execution_count": 60,
   "metadata": {
    "collapsed": true
   },
   "outputs": [],
   "source": [
    "def ER_graph(num_nodes):\n",
    "    p = .0011\n",
    "    i_j_pairs = [(i,j) for i in range(1,num_nodes+1) for j in range(1,num_nodes+1) if i!=j]\n",
    "    ER_graph = {}\n",
    "    for pair in i_j_pairs:\n",
    "        if random.random()<p:\n",
    "            if pair[0] not in ER_graph.keys():\n",
    "                ER_graph[pair[0]] = set([])\n",
    "                ER_graph[pair[0]].add(pair[1])\n",
    "            else:\n",
    "                ER_graph[pair[0]].add(pair[1])\n",
    "            if pair[1] not in ER_graph.keys():\n",
    "                ER_graph[pair[1]] = set([])\n",
    "                ER_graph[pair[1]].add(pair[0])\n",
    "            else:\n",
    "                ER_graph[pair[0]].add(pair[0])\n",
    "    return ER_graph"
   ]
  },
  {
   "cell_type": "code",
   "execution_count": 96,
   "metadata": {
    "collapsed": true
   },
   "outputs": [],
   "source": [
    "class UPATrial:\n",
    "    \"\"\"\n",
    "    Simple class to encapsulate optimizated trials for the UPA algorithm\n",
    "    \n",
    "    Maintains a list of node numbers with multiple instance of each number.\n",
    "    The number of instances of each node number are\n",
    "    in the same proportion as the desired probabilities\n",
    "    \n",
    "    Uses random.choice() to select a node number from this list for each trial.\n",
    "    \"\"\"\n",
    "\n",
    "    def __init__(self, num_nodes):\n",
    "        \"\"\"\n",
    "        Initialize a UPATrial object corresponding to a \n",
    "        complete graph with num_nodes nodes\n",
    "        \n",
    "        Note the initial list of node numbers has num_nodes copies of\n",
    "        each node number\n",
    "        \"\"\"\n",
    "        self._num_nodes = num_nodes\n",
    "        self._node_numbers = [node for node in range(num_nodes) for dummy_idx in range(num_nodes)]\n",
    "\n",
    "\n",
    "    def run_trial(self, num_nodes):\n",
    "        \"\"\"\n",
    "        Conduct num_nodes trials using by applying random.choice()\n",
    "        to the list of node numbers\n",
    "        \n",
    "        Updates the list of node numbers so that each node number\n",
    "        appears in correct ratio\n",
    "        \n",
    "        Returns:\n",
    "        Set of nodes\n",
    "        \"\"\"\n",
    "        \n",
    "        # compute the neighbors for the newly-created node\n",
    "        new_node_neighbors = set()\n",
    "        for _ in range(num_nodes):\n",
    "            new_node_neighbors.add(random.choice(self._node_numbers))\n",
    "        \n",
    "        # update the list of node numbers so that each node number \n",
    "        # appears in the correct ratio\n",
    "        self._node_numbers.append(self._num_nodes)\n",
    "        for dummy_idx in range(len(new_node_neighbors)):\n",
    "            self._node_numbers.append(self._num_nodes)\n",
    "        self._node_numbers.extend(list(new_node_neighbors))\n",
    "        \n",
    "        #update the number of nodes\n",
    "        self._num_nodes += 1\n",
    "        return new_node_neighbors\n",
    "    \n",
    "    def complete_trial(self,m,n=0):\n",
    "        \"\"\"\n",
    "        adds nodes to graph as expected\n",
    "        \"\"\"\n",
    "        if n==0:\n",
    "            n = self._num_nodes\n",
    "        for index in range(m,n):\n",
    "            self.run_trial(index)"
   ]
  },
  {
   "cell_type": "code",
   "execution_count": 97,
   "metadata": {
    "collapsed": false
   },
   "outputs": [
    {
     "name": "stdout",
     "output_type": "stream",
     "text": [
      "Loaded graph with 1239 nodes\n"
     ]
    }
   ],
   "source": [
    "graph = load_graph(NETWORK_URL)"
   ]
  },
  {
   "cell_type": "code",
   "execution_count": 98,
   "metadata": {
    "collapsed": true
   },
   "outputs": [],
   "source": [
    "num_nodes = 1239"
   ]
  },
  {
   "cell_type": "code",
   "execution_count": 99,
   "metadata": {
    "collapsed": false
   },
   "outputs": [],
   "source": [
    "ER_G = ER_graph(num_nodes)"
   ]
  },
  {
   "cell_type": "code",
   "execution_count": 100,
   "metadata": {
    "collapsed": false
   },
   "outputs": [
    {
     "data": {
      "text/plain": [
       "3036"
      ]
     },
     "execution_count": 100,
     "metadata": {},
     "output_type": "execute_result"
    }
   ],
   "source": [
    "sum(map(len,ER_G.values()))"
   ]
  },
  {
   "cell_type": "code",
   "execution_count": 111,
   "metadata": {
    "collapsed": false
   },
   "outputs": [],
   "source": [
    "UPA_G = UPATrial(num_nodes)"
   ]
  },
  {
   "cell_type": "code",
   "execution_count": 107,
   "metadata": {
    "collapsed": true
   },
   "outputs": [],
   "source": [
    "m = int(math.floor(num_nodes*.90))"
   ]
  },
  {
   "cell_type": "code",
   "execution_count": 108,
   "metadata": {
    "collapsed": false
   },
   "outputs": [
    {
     "name": "stdout",
     "output_type": "stream",
     "text": [
      "1115 2169\n"
     ]
    }
   ],
   "source": [
    "UPA_G.complete_trial(m)"
   ]
  },
  {
   "cell_type": "code",
   "execution_count": 112,
   "metadata": {
    "collapsed": false
   },
   "outputs": [],
   "source": [
    "counter_obj = Counter(UPA_G._node_numbers)"
   ]
  },
  {
   "cell_type": "code",
   "execution_count": 113,
   "metadata": {
    "collapsed": false
   },
   "outputs": [
    {
     "data": {
      "text/plain": [
       "1535121"
      ]
     },
     "execution_count": 113,
     "metadata": {},
     "output_type": "execute_result"
    }
   ],
   "source": [
    "sum(counter_obj.values())"
   ]
  },
  {
   "cell_type": "code",
   "execution_count": 116,
   "metadata": {
    "collapsed": true
   },
   "outputs": [],
   "source": [
    "def random_order(graph):\n",
    "    \"\"\"\n",
    "    returns a list of the nodes in random order from graph\n",
    "    \"\"\"\n",
    "    nodes = graph.keys()\n",
    "    random.shuffle(nodes)\n",
    "    return nodes"
   ]
  },
  {
   "cell_type": "code",
   "execution_count": null,
   "metadata": {
    "collapsed": true
   },
   "outputs": [],
   "source": [
    "mod_2_hmwk.compute_resilience(ER_G,random_order(ER_G))"
   ]
  },
  {
   "cell_type": "code",
   "execution_count": null,
   "metadata": {
    "collapsed": true
   },
   "outputs": [],
   "source": []
  }
 ],
 "metadata": {
  "kernelspec": {
   "display_name": "Python 2",
   "language": "python",
   "name": "python2"
  },
  "language_info": {
   "codemirror_mode": {
    "name": "ipython",
    "version": 2
   },
   "file_extension": ".py",
   "mimetype": "text/x-python",
   "name": "python",
   "nbconvert_exporter": "python",
   "pygments_lexer": "ipython2",
   "version": "2.7.9"
  }
 },
 "nbformat": 4,
 "nbformat_minor": 0
}
