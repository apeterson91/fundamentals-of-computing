{
 "cells": [
  {
   "cell_type": "code",
   "execution_count": 3,
   "metadata": {
    "collapsed": true
   },
   "outputs": [],
   "source": [
    "from collections import deque"
   ]
  },
  {
   "cell_type": "code",
   "execution_count": 88,
   "metadata": {
    "collapsed": false
   },
   "outputs": [],
   "source": [
    "def bfs_visited(ugraph,start_node):\n",
    "    \"\"\"\n",
    "    Input: undirected graph [ugraph], node [start_node]\n",
    "    Output: Visited = {all nodes visited}\n",
    "    \"\"\"\n",
    "    visited = {start_node}\n",
    "    q = deque([start_node])\n",
    "    while len(q)!=0:\n",
    "        popped = q.pop()\n",
    "        if popped in ugraph.keys():\n",
    "            for neighbor in ugraph[popped]:\n",
    "                if neighbor not in visited:\n",
    "                    visited.add(neighbor)\n",
    "                    q.append(neighbor)\n",
    "    return visited\n",
    "    "
   ]
  },
  {
   "cell_type": "code",
   "execution_count": 89,
   "metadata": {
    "collapsed": false
   },
   "outputs": [],
   "source": [
    "def cc_visited(ugraph):\n",
    "    \"\"\"\n",
    "    Takes the undirected graph ugraph\n",
    "    and returns a list of sets, where\n",
    "    each set consists of all the nodes \n",
    "    (and nothing else) in a connected\n",
    "    component, and there is exactly one\n",
    "    set in the list for each connected \n",
    "    component in ugraph and nothing else.\n",
    "    \"\"\"\n",
    "    remaining_nodes = ugraph.keys()\n",
    "    connected_components = []\n",
    "    while len(remaining_nodes) != 0:\n",
    "        popped_node = remaining_nodes.pop()\n",
    "        visited_nodes = bfs_visited(ugraph,popped_node)\n",
    "        if visited_nodes not in connected_components:\n",
    "            connected_components.append(visited_nodes)\n",
    "    return connected_components\n",
    "    "
   ]
  },
  {
   "cell_type": "code",
   "execution_count": 179,
   "metadata": {
    "collapsed": false
   },
   "outputs": [],
   "source": [
    "def compute_resilience(ugraph, attack_order):\n",
    "    \"\"\"\n",
    "    Takes the undirected graph ugraph\n",
    "    a list of nodes attack_order and\n",
    "    iterates through the nodes in attack_order.\n",
    "    For each node in the list, the function\n",
    "    removes the given node and its edges from\n",
    "    the graph and then computes the size of \n",
    "    the largest connected component for the \n",
    "    resulting graph.\n",
    "    \"\"\"\n",
    "    max_cc = [largest_cc_size(ugraph)]\n",
    "    for node in attack_order:\n",
    "        ugraph.pop(node,None)\n",
    "        for edges in ugraph.values():\n",
    "            if node in edges:\n",
    "                edges.remove(node)\n",
    "        max_cc.append(largest_cc_size(ugraph))\n",
    "    return sorted(max_cc,reverse=True)\n",
    "    "
   ]
  },
  {
   "cell_type": "code",
   "execution_count": 198,
   "metadata": {
    "collapsed": true
   },
   "outputs": [],
   "source": [
    "def largest_cc_size(ugraph):\n",
    "    \"\"\"\n",
    "    returns the size of the largest connected component\n",
    "    \"\"\"\n",
    "    if len(cc_visited(ugraph))!=0:\n",
    "        return max(map(len,cc_visited(ugraph)))\n",
    "    else:\n",
    "        return 0"
   ]
  }
 ],
 "metadata": {
  "kernelspec": {
   "display_name": "Python 2",
   "language": "python",
   "name": "python2"
  },
  "language_info": {
   "codemirror_mode": {
    "name": "ipython",
    "version": 2
   },
   "file_extension": ".py",
   "mimetype": "text/x-python",
   "name": "python",
   "nbconvert_exporter": "python",
   "pygments_lexer": "ipython2",
   "version": "2.7.9"
  }
 },
 "nbformat": 4,
 "nbformat_minor": 0
}
